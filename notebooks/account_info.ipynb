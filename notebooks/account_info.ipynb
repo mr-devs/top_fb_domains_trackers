{
 "cells": [
  {
   "cell_type": "code",
   "execution_count": 1,
   "metadata": {},
   "outputs": [],
   "source": [
    "import json\n",
    "import os\n",
    "import pandas as pd"
   ]
  },
  {
   "cell_type": "code",
   "execution_count": 17,
   "metadata": {},
   "outputs": [],
   "source": [
    "account_info_fp = '/Users/matthewdeverna/Documents/Projects/top_fb_domains_trackers/data/account_info_2022-08-17.json'"
   ]
  },
  {
   "cell_type": "code",
   "execution_count": 18,
   "metadata": {},
   "outputs": [],
   "source": [
    "with open(account_info_fp, 'r') as f:\n",
    "    for line in f:\n",
    "        data = json.loads(line)"
   ]
  },
  {
   "cell_type": "code",
   "execution_count": 19,
   "metadata": {
    "scrolled": false
   },
   "outputs": [
    {
     "data": {
      "text/plain": [
       "dict_keys(['data', 'includes', '__twarc'])"
      ]
     },
     "execution_count": 19,
     "metadata": {},
     "output_type": "execute_result"
    }
   ],
   "source": [
    "data.keys()"
   ]
  },
  {
   "cell_type": "code",
   "execution_count": 20,
   "metadata": {},
   "outputs": [
    {
     "data": {
      "text/plain": [
       "{'url': 'https://api.twitter.com/2/users?tweet.fields=attachments%2Cauthor_id%2Ccontext_annotations%2Cconversation_id%2Ccreated_at%2Centities%2Cgeo%2Cid%2Cin_reply_to_user_id%2Clang%2Cpublic_metrics%2Ctext%2Cpossibly_sensitive%2Creferenced_tweets%2Creply_settings%2Csource%2Cwithheld&user.fields=created_at%2Cdescription%2Centities%2Cid%2Clocation%2Cname%2Cpinned_tweet_id%2Cprofile_image_url%2Cprotected%2Cpublic_metrics%2Curl%2Cusername%2Cverified%2Cwithheld&expansions=pinned_tweet_id&ids=1285358566300237826%2C1451590999088803841',\n",
       " 'version': '2.11.2',\n",
       " 'retrieved_at': '2022-08-18T00:02:47+00:00'}"
      ]
     },
     "execution_count": 20,
     "metadata": {},
     "output_type": "execute_result"
    }
   ],
   "source": [
    "data['__twarc']"
   ]
  },
  {
   "cell_type": "code",
   "execution_count": null,
   "metadata": {},
   "outputs": [],
   "source": [
    "from osometweet.wrangle import get_dict_val"
   ]
  },
  {
   "cell_type": "code",
   "execution_count": 24,
   "metadata": {},
   "outputs": [],
   "source": [
    "clean_info = []\n",
    "\n",
    "for user in data['data']:\n",
    "    username = get_dict_val(user, ['username'])\n",
    "    verified = get_dict_val(user, ['verified'])\n",
    "    name = get_dict_val(user, ['name'])\n",
    "    account_id = get_dict_val(user, ['id'])\n",
    "    description = get_dict_val(user, ['description'])\n",
    "    created_at = get_dict_val(user, ['created_at'])\n",
    "    location = get_dict_val(user, ['location'])\n",
    "    followers_count = get_dict_val(user, ['public_metrics','followers_count'])\n",
    "    following_count = get_dict_val(user, ['public_metrics','following_count'])\n",
    "    tweet_count = get_dict_val(user, ['public_metrics','tweet_count'])\n",
    "    listed_count = get_dict_val(user, ['public_metrics','listed_count'])\n",
    "    pinned_tweet_id = get_dict_val(user, ['pinned_tweet_id'])\n",
    "    profile_image_url = get_dict_val(user, ['profile_image_url'])\n",
    "    url = get_dict_val(user, ['url'])\n",
    "    protected = get_dict_val(user, ['protected'])\n",
    "    \n",
    "    clean_info.append((\n",
    "        username,\n",
    "        verified,\n",
    "        name,\n",
    "        account_id,\n",
    "        description,\n",
    "        created_at,\n",
    "        location,\n",
    "        followers_count,\n",
    "        following_count,\n",
    "        tweet_count,\n",
    "        listed_count,\n",
    "        pinned_tweet_id,\n",
    "        profile_image_url,\n",
    "        url,\n",
    "        protected\n",
    "    ))"
   ]
  },
  {
   "cell_type": "code",
   "execution_count": 25,
   "metadata": {},
   "outputs": [
    {
     "data": {
      "text/plain": [
       "[('FacebooksTop10',\n",
       "  False,\n",
       "  \"Facebook's Top 10\",\n",
       "  '1285358566300237826',\n",
       "  'A bot that posts the sources of the 10 top-performing link posts by U.S. Facebook pages every day, ranked by interactions. (By @kevinroose/@fabiogiglietto)',\n",
       "  '2020-07-20T23:40:18.000Z',\n",
       "  'data from CrowdTangle',\n",
       "  45955,\n",
       "  1,\n",
       "  763,\n",
       "  0,\n",
       "  '1318315929126666240',\n",
       "  'https://pbs.twimg.com/profile_images/1286008801166897152/OftNV2NK_normal.jpg',\n",
       "  '',\n",
       "  False),\n",
       " ('citizenbrowser',\n",
       "  False,\n",
       "  'Trending on Facebook',\n",
       "  '1451590999088803841',\n",
       "  'An archive of @themarkup’s independent check on top Facebook content that ran from November 2021 through July 2022. See what the team is up to at https://t.co/VRTMJVjc4F.',\n",
       "  '2021-10-22T16:51:43.000Z',\n",
       "  None,\n",
       "  1305,\n",
       "  1,\n",
       "  416,\n",
       "  22,\n",
       "  '1461318557858422787',\n",
       "  'https://pbs.twimg.com/profile_images/1456276361346228224/ooOKuFm0_normal.jpg',\n",
       "  '',\n",
       "  False)]"
      ]
     },
     "execution_count": 25,
     "metadata": {},
     "output_type": "execute_result"
    }
   ],
   "source": [
    "clean_info"
   ]
  },
  {
   "cell_type": "code",
   "execution_count": 26,
   "metadata": {},
   "outputs": [
    {
     "data": {
      "text/html": [
       "<div>\n",
       "<style scoped>\n",
       "    .dataframe tbody tr th:only-of-type {\n",
       "        vertical-align: middle;\n",
       "    }\n",
       "\n",
       "    .dataframe tbody tr th {\n",
       "        vertical-align: top;\n",
       "    }\n",
       "\n",
       "    .dataframe thead th {\n",
       "        text-align: right;\n",
       "    }\n",
       "</style>\n",
       "<table border=\"1\" class=\"dataframe\">\n",
       "  <thead>\n",
       "    <tr style=\"text-align: right;\">\n",
       "      <th></th>\n",
       "      <th>username</th>\n",
       "      <th>verified</th>\n",
       "      <th>name</th>\n",
       "      <th>account_id</th>\n",
       "      <th>description</th>\n",
       "      <th>created_at</th>\n",
       "      <th>location</th>\n",
       "      <th>followers_count</th>\n",
       "      <th>following_count</th>\n",
       "      <th>tweet_count</th>\n",
       "      <th>listed_count</th>\n",
       "      <th>pinned_tweet_id</th>\n",
       "      <th>profile_image_url</th>\n",
       "      <th>url</th>\n",
       "      <th>protected</th>\n",
       "    </tr>\n",
       "  </thead>\n",
       "  <tbody>\n",
       "    <tr>\n",
       "      <th>0</th>\n",
       "      <td>FacebooksTop10</td>\n",
       "      <td>False</td>\n",
       "      <td>Facebook's Top 10</td>\n",
       "      <td>1285358566300237826</td>\n",
       "      <td>A bot that posts the sources of the 10 top-per...</td>\n",
       "      <td>2020-07-20T23:40:18.000Z</td>\n",
       "      <td>data from CrowdTangle</td>\n",
       "      <td>45955</td>\n",
       "      <td>1</td>\n",
       "      <td>763</td>\n",
       "      <td>0</td>\n",
       "      <td>1318315929126666240</td>\n",
       "      <td>https://pbs.twimg.com/profile_images/128600880...</td>\n",
       "      <td></td>\n",
       "      <td>False</td>\n",
       "    </tr>\n",
       "    <tr>\n",
       "      <th>1</th>\n",
       "      <td>citizenbrowser</td>\n",
       "      <td>False</td>\n",
       "      <td>Trending on Facebook</td>\n",
       "      <td>1451590999088803841</td>\n",
       "      <td>An archive of @themarkup’s independent check o...</td>\n",
       "      <td>2021-10-22T16:51:43.000Z</td>\n",
       "      <td>None</td>\n",
       "      <td>1305</td>\n",
       "      <td>1</td>\n",
       "      <td>416</td>\n",
       "      <td>22</td>\n",
       "      <td>1461318557858422787</td>\n",
       "      <td>https://pbs.twimg.com/profile_images/145627636...</td>\n",
       "      <td></td>\n",
       "      <td>False</td>\n",
       "    </tr>\n",
       "  </tbody>\n",
       "</table>\n",
       "</div>"
      ],
      "text/plain": [
       "         username  verified                  name           account_id  \\\n",
       "0  FacebooksTop10     False     Facebook's Top 10  1285358566300237826   \n",
       "1  citizenbrowser     False  Trending on Facebook  1451590999088803841   \n",
       "\n",
       "                                         description  \\\n",
       "0  A bot that posts the sources of the 10 top-per...   \n",
       "1  An archive of @themarkup’s independent check o...   \n",
       "\n",
       "                 created_at               location  followers_count  \\\n",
       "0  2020-07-20T23:40:18.000Z  data from CrowdTangle            45955   \n",
       "1  2021-10-22T16:51:43.000Z                   None             1305   \n",
       "\n",
       "   following_count  tweet_count  listed_count      pinned_tweet_id  \\\n",
       "0                1          763             0  1318315929126666240   \n",
       "1                1          416            22  1461318557858422787   \n",
       "\n",
       "                                   profile_image_url url  protected  \n",
       "0  https://pbs.twimg.com/profile_images/128600880...          False  \n",
       "1  https://pbs.twimg.com/profile_images/145627636...          False  "
      ]
     },
     "execution_count": 26,
     "metadata": {},
     "output_type": "execute_result"
    }
   ],
   "source": [
    "pd.DataFrame(\n",
    "    clean_info,\n",
    "    columns=[\n",
    "        'username',\n",
    "        'verified',\n",
    "        'name',\n",
    "        'account_id',\n",
    "        'description',\n",
    "        'created_at',\n",
    "        'location',\n",
    "        'followers_count',\n",
    "        'following_count',\n",
    "        'tweet_count',\n",
    "        'listed_count',\n",
    "        'pinned_tweet_id',\n",
    "        'profile_image_url',\n",
    "        'url',\n",
    "        'protected'\n",
    "    ]\n",
    ")"
   ]
  },
  {
   "cell_type": "code",
   "execution_count": null,
   "metadata": {},
   "outputs": [],
   "source": []
  },
  {
   "cell_type": "code",
   "execution_count": null,
   "metadata": {},
   "outputs": [],
   "source": []
  }
 ],
 "metadata": {
  "kernelspec": {
   "display_name": "Python 3",
   "language": "python",
   "name": "python3"
  },
  "language_info": {
   "codemirror_mode": {
    "name": "ipython",
    "version": 3
   },
   "file_extension": ".py",
   "mimetype": "text/x-python",
   "name": "python",
   "nbconvert_exporter": "python",
   "pygments_lexer": "ipython3",
   "version": "3.7.6"
  }
 },
 "nbformat": 4,
 "nbformat_minor": 2
}
