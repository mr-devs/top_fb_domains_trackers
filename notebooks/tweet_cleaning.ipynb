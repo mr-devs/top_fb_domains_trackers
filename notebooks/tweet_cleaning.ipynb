{
 "cells": [
  {
   "cell_type": "code",
   "execution_count": 14,
   "metadata": {},
   "outputs": [],
   "source": [
    "import json\n",
    "import glob"
   ]
  },
  {
   "cell_type": "code",
   "execution_count": 15,
   "metadata": {},
   "outputs": [
    {
     "data": {
      "text/plain": [
       "'/Users/matthewdeverna/Documents/Projects/top_fb_domains_trackers/notebooks'"
      ]
     },
     "execution_count": 15,
     "metadata": {},
     "output_type": "execute_result"
    }
   ],
   "source": [
    "import os\n",
    "os.getcwd()"
   ]
  },
  {
   "cell_type": "code",
   "execution_count": 16,
   "metadata": {},
   "outputs": [
    {
     "data": {
      "text/plain": [
       "['../data/account_info_2022-08-17.json',\n",
       " '../data/citizenbrowser_tweets_flattened_2022-08-17.jsonl',\n",
       " '../data/account_ids.txt',\n",
       " '../data/account_data_clean_2022-08-17.csv',\n",
       " '../data/citizenbrowser_tweets_2022-08-17.json',\n",
       " '../data/fb_top10_tweets_2022-08-17.json',\n",
       " '../data/fb_top10_tweets_flattened_2022-08-17.jsonl']"
      ]
     },
     "execution_count": 16,
     "metadata": {},
     "output_type": "execute_result"
    }
   ],
   "source": [
    "glob.glob('../data/*')"
   ]
  },
  {
   "cell_type": "code",
   "execution_count": 187,
   "metadata": {},
   "outputs": [],
   "source": [
    "tweet_fp = '../data/citizenbrowser_tweets_flattened_2022-08-18.jsonl'\n",
    "\n",
    "tweets = []\n",
    "\n",
    "with open(tweet_fp, 'r') as f:\n",
    "    for line in f:\n",
    "        tweet = json.loads(line)\n",
    "        tweets.append(tweet)"
   ]
  },
  {
   "cell_type": "code",
   "execution_count": 145,
   "metadata": {},
   "outputs": [
    {
     "data": {
      "text/plain": [
       "'These sites were shown most frequently to our panelists today:\\n1️⃣ ranker․com (2.4 times per user)\\n2️⃣ amazon․com (2.2x)\\n3️⃣ tribel․app․link (1.9x)\\n4️⃣ facebook․com (1.5x)\\n5️⃣ youtube․com (1.5x)'"
      ]
     },
     "execution_count": 145,
     "metadata": {},
     "output_type": "execute_result"
    }
   ],
   "source": [
    "tweets[5]['text']"
   ]
  },
  {
   "cell_type": "code",
   "execution_count": 150,
   "metadata": {},
   "outputs": [
    {
     "ename": "TypeError",
     "evalue": "string argument without an encoding",
     "output_type": "error",
     "traceback": [
      "\u001b[0;31m---------------------------------------------------------------------------\u001b[0m",
      "\u001b[0;31mTypeError\u001b[0m                                 Traceback (most recent call last)",
      "\u001b[0;32m<ipython-input-150-6078049ccb85>\u001b[0m in \u001b[0;36m<module>\u001b[0;34m\u001b[0m\n\u001b[0;32m----> 1\u001b[0;31m \u001b[0mbytes\u001b[0m\u001b[0;34m(\u001b[0m\u001b[0mtweets\u001b[0m\u001b[0;34m[\u001b[0m\u001b[0;36m5\u001b[0m\u001b[0;34m]\u001b[0m\u001b[0;34m[\u001b[0m\u001b[0;34m'text'\u001b[0m\u001b[0;34m]\u001b[0m\u001b[0;34m)\u001b[0m\u001b[0;34m\u001b[0m\u001b[0;34m\u001b[0m\u001b[0m\n\u001b[0m",
      "\u001b[0;31mTypeError\u001b[0m: string argument without an encoding"
     ]
    }
   ],
   "source": [
    "bytes(tweets[5]['text'])"
   ]
  },
  {
   "cell_type": "code",
   "execution_count": 155,
   "metadata": {},
   "outputs": [],
   "source": [
    "bstring = bytes(tweets[5]['text'], 'utf-8')"
   ]
  },
  {
   "cell_type": "code",
   "execution_count": 158,
   "metadata": {},
   "outputs": [
    {
     "data": {
      "text/plain": [
       "False"
      ]
     },
     "execution_count": 158,
     "metadata": {},
     "output_type": "execute_result"
    }
   ],
   "source": [
    " bytes('\\x31\\xE2\\x83\\xA3', 'utf-8') in bstring"
   ]
  },
  {
   "cell_type": "code",
   "execution_count": 162,
   "metadata": {},
   "outputs": [
    {
     "name": "stdout",
     "output_type": "stream",
     "text": [
      "These sites were shown most frequently to our panelists today:\n",
      "1️⃣ ranker․com (2.4 times per user)\n",
      "2️⃣ amazon․com (2.2x)\n",
      "3️⃣ tribel․app․link (1.9x)\n",
      "4️⃣ facebook․com (1.5x)\n",
      "5️⃣ youtube․com (1.5x)\n"
     ]
    }
   ],
   "source": [
    "print(tweets[5]['text'])"
   ]
  },
  {
   "cell_type": "code",
   "execution_count": 165,
   "metadata": {},
   "outputs": [
    {
     "data": {
      "text/plain": [
       "True"
      ]
     },
     "execution_count": 165,
     "metadata": {},
     "output_type": "execute_result"
    }
   ],
   "source": [
    "bytes('1️⃣', 'utf-8') in bstring"
   ]
  },
  {
   "cell_type": "code",
   "execution_count": 166,
   "metadata": {},
   "outputs": [],
   "source": [
    "one_emoji_bstring = bytes('1️⃣', 'utf-8')\n",
    "two_emoji_bstring = bytes('2️⃣', 'utf-8')\n",
    "three_emoji_bstring = bytes('3️⃣', 'utf-8')\n",
    "four_emoji_bstring = bytes('4️⃣', 'utf-8')\n",
    "five_emoji_bstring = bytes('5️⃣', 'utf-8')"
   ]
  },
  {
   "cell_type": "code",
   "execution_count": 193,
   "metadata": {},
   "outputs": [],
   "source": [
    "def is_citizenbrowser_tweet_i_want(tweet_text):\n",
    "    \"\"\"\n",
    "    Check that the tweet contains top position emojis that\n",
    "    identify our top ranking tweets.\n",
    "    \n",
    "    text_tweet (str) : the tweet text\n",
    "    \n",
    "    output (bool) : whether it is a tweet we want or not\n",
    "    \"\"\"\n",
    "    # Manually convert emoji character to bytes\n",
    "    one_emoji_bstring = bytes('1️⃣', 'utf-8')\n",
    "    two_emoji_bstring = bytes('2️⃣', 'utf-8')\n",
    "    three_emoji_bstring = bytes('3️⃣', 'utf-8')\n",
    "    four_emoji_bstring = bytes('4️⃣', 'utf-8')\n",
    "    five_emoji_bstring = bytes('5️⃣', 'utf-8')\n",
    "    all_emojis = [\n",
    "        one_emoji_bstring,\n",
    "        two_emoji_bstring,\n",
    "        three_emoji_bstring,\n",
    "        four_emoji_bstring,\n",
    "        five_emoji_bstring\n",
    "    ]\n",
    "    tweet_text_bytes = bytes(tweet_text, 'utf-8')\n",
    "    \n",
    "    return any(rank in tweet_text_bytes for rank in all_emojis)\n",
    "\n",
    "def get_citizenbrowser_top_five(tweet_text):\n",
    "    \"\"\"\n",
    "    Extract the top ten reported by fbtopten account.\n",
    "    \n",
    "    \n",
    "    \"\"\"\n",
    "    one_emoji_bstring = bytes('1️⃣', 'utf-8')\n",
    "    two_emoji_bstring = bytes('2️⃣', 'utf-8')\n",
    "    three_emoji_bstring = bytes('3️⃣', 'utf-8')\n",
    "    four_emoji_bstring = bytes('4️⃣', 'utf-8')\n",
    "    five_emoji_bstring = bytes('5️⃣', 'utf-8')\n",
    "    all_emojis = [\n",
    "        one_emoji_bstring,\n",
    "        two_emoji_bstring,\n",
    "        three_emoji_bstring,\n",
    "        four_emoji_bstring,\n",
    "        five_emoji_bstring\n",
    "    ]\n",
    "    \n",
    "    topranked = []\n",
    "    \n",
    "    for obj in tweet_text.split('\\n'):\n",
    "        \n",
    "        for rank in all_emojis:\n",
    "            byte_obj = bytes(obj, 'utf-8')\n",
    "            \n",
    "            if byte_obj.startswith(rank):\n",
    "                try:\n",
    "                    topranked.append( obj.split(\" \")[1] )\n",
    "                except:\n",
    "                    print(\"One of the ranks was not reported. Skipping...\")\n",
    "    \n",
    "    return topranked"
   ]
  },
  {
   "cell_type": "code",
   "execution_count": 198,
   "metadata": {},
   "outputs": [
    {
     "name": "stdout",
     "output_type": "stream",
     "text": [
      "This account was opened to keep a watch on Big Tech—and that’s what https://t.co/eq89a966bP continues to do.\n",
      "\n",
      "Follow @themarkup to stay in the know on new projects, reporting, and what’s next for Citizen Browser.\n",
      "1547590601968721921\n",
      "We regularly showed that the top sites on Facebook are polarizing and inflammatory, contrary to what the company says. https://t.co/Uu7rJ82uFO\n",
      "1547590599762591747\n",
      "Hello again! As @themarkup’s current Citizen Browser panel winds down, this account will no longer update. https://t.co/wqKH8t3QZD\n",
      "1547590597564723203\n",
      "One of the ranks was not reported. Skipping...\n",
      "One of the ranks was not reported. Skipping...\n",
      "One of the ranks was not reported. Skipping...\n",
      "One of the ranks was not reported. Skipping...\n",
      "One of the ranks was not reported. Skipping...\n",
      "At the end of the day, we can’t take Facebook’s word for what’s happening on Facebook—or in the “metaverse.”\n",
      "\n",
      "We need constant external checks of the company’s claims. And that’s exactly what we’ll be doing.\n",
      "\n",
      "Give us a follow to stick around.\n",
      "1461318572676898825\n",
      "We’re committed to showing our work. Learn more about how we calculated these metrics and why we chose to use them. https://t.co/x8Kg3Sl6iM\n",
      "1461318571397636096\n",
      "And which sites are jumping in rank when it comes to impressions: https://t.co/rz7G9XvdMh\n",
      "1461318569870995460\n",
      "Here’s what you can expect to see from me each day.\n",
      "\n",
      "Top content measured by frequency. This is the average number of times Citizen Browser panelists saw a given domain in a day: https://t.co/tpuYUug1tR\n",
      "1461318568637829120\n",
      "Instead, we measured top content by counting each appearance of a domain on a user’s feed—also known as impressions.\n",
      "\n",
      "When we did, we found that polarizing, partisan content jumped in performance rankings. https://t.co/GAQxqVoSTH\n",
      "1461318567165636608\n",
      "Since people see multiple links from the same site over time, Facebook’s metric of choice overlooks a lot of data.\n",
      "\n",
      "One of our panelists was served articles from far-right news site Newsmax 1,065 times in 3 months. Under Facebook’s method, this would count as a single unit.\n",
      "1461318564003168256\n",
      "There are many ways to measure popularity on Facebook. Each way tells a different story about the platform and what kind of content its algorithms favor.\n",
      "\n",
      "In its transparency reports, Facebook calculated top content by the number of individual users that were shown a domain.\n",
      "1461318562627440650\n",
      "The data comes from Citizen Browser, @themarkup’s paid panel of Facebook users from across the U.S.\n",
      "\n",
      "This panel offers a rare look into what’s actually happening on the platform from users’ own news feeds. https://t.co/6oZgjhcxXe\n",
      "1461318560446353422\n",
      "Earlier this month, Facebook released its second public “Widely Viewed Content Report.”\n",
      "\n",
      "These reports are an attempt to refute criticism that the top sites on the platform are polarizing and inflammatory.\n",
      "\n",
      "Our data suggests that they’re incomplete. https://t.co/o9IGUDArku\n",
      "1461318559100018692\n",
      "Hello! I’m a new bot from @themarkup. I’m keeping a constant check on Facebook’s claims about what’s happening on the platform. Here’s why. ⬇️\n",
      "1461318557858422787\n"
     ]
    }
   ],
   "source": [
    "from collections import defaultdict\n",
    "\n",
    "cb_top_five_all_data = defaultdict(list)\n",
    "\n",
    "for tweet in tweets:\n",
    "    tweet_text = tweet['text']\n",
    "    \n",
    "    if not is_citizenbrowser_tweet_i_want(tweet_text):\n",
    "        print(tweet_text)\n",
    "        print(tweet['id'])\n",
    "        continue\n",
    "\n",
    "    created_dt = dateutil.parser.isoparse(tweet['created_at'])\n",
    "    date_key = created_dt.strftime(\"%Y_%m\")\n",
    "    \n",
    "    try:\n",
    "#         print(\"parsing top ten...\")\n",
    "        top_ten = get_citizenbrowser_top_five(tweet_text)\n",
    "    except:\n",
    "        print(\"Ran into a problem parsing the top ranked. Skipping the below tweet...\")\n",
    "        print(\"-\"*50)\n",
    "        print(tweet_text)\n",
    "        print(\"-\"*50)\n",
    "    \n",
    "    cb_top_five_all_data[date_key].extend(top_ten)"
   ]
  },
  {
   "cell_type": "code",
   "execution_count": null,
   "metadata": {},
   "outputs": [],
   "source": []
  },
  {
   "cell_type": "code",
   "execution_count": null,
   "metadata": {},
   "outputs": [],
   "source": []
  },
  {
   "cell_type": "code",
   "execution_count": 186,
   "metadata": {},
   "outputs": [
    {
     "data": {
      "text/plain": [
       "['ranker․com', 'amazon․com', 'tribel․app․link', 'facebook․com', 'youtube․com']"
      ]
     },
     "execution_count": 186,
     "metadata": {},
     "output_type": "execute_result"
    }
   ],
   "source": [
    "get_citizenbrowser_top_ten(tweets[5]['text'])"
   ]
  },
  {
   "cell_type": "code",
   "execution_count": 172,
   "metadata": {},
   "outputs": [],
   "source": [
    "tweet_text_b = bytes(tweets[5]['text'], 'utf-8')"
   ]
  },
  {
   "cell_type": "code",
   "execution_count": 174,
   "metadata": {},
   "outputs": [
    {
     "ename": "TypeError",
     "evalue": "a bytes-like object is required, not 'str'",
     "output_type": "error",
     "traceback": [
      "\u001b[0;31m---------------------------------------------------------------------------\u001b[0m",
      "\u001b[0;31mTypeError\u001b[0m                                 Traceback (most recent call last)",
      "\u001b[0;32m<ipython-input-174-87869eac954f>\u001b[0m in \u001b[0;36m<module>\u001b[0;34m\u001b[0m\n\u001b[0;32m----> 1\u001b[0;31m \u001b[0mtweet_text_b\u001b[0m\u001b[0;34m.\u001b[0m\u001b[0msplit\u001b[0m\u001b[0;34m(\u001b[0m\u001b[0;34m\" \"\u001b[0m\u001b[0;34m)\u001b[0m\u001b[0;34m\u001b[0m\u001b[0;34m\u001b[0m\u001b[0m\n\u001b[0m",
      "\u001b[0;31mTypeError\u001b[0m: a bytes-like object is required, not 'str'"
     ]
    }
   ],
   "source": [
    "tweet_text_b.split(\" \")"
   ]
  },
  {
   "cell_type": "code",
   "execution_count": 178,
   "metadata": {},
   "outputs": [],
   "source": [
    "entities = tweets[5]['text'].split(\"\\n\")"
   ]
  },
  {
   "cell_type": "code",
   "execution_count": 180,
   "metadata": {},
   "outputs": [],
   "source": [
    "obj = entities[1]"
   ]
  },
  {
   "cell_type": "code",
   "execution_count": 182,
   "metadata": {},
   "outputs": [
    {
     "data": {
      "text/plain": [
       "b'1\\xef\\xb8\\x8f\\xe2\\x83\\xa3 ranker\\xe2\\x80\\xa4com (2.4 times per user)'"
      ]
     },
     "execution_count": 182,
     "metadata": {},
     "output_type": "execute_result"
    }
   ],
   "source": [
    "bytes(obj, 'utf-8')"
   ]
  },
  {
   "cell_type": "code",
   "execution_count": 192,
   "metadata": {},
   "outputs": [
    {
     "data": {
      "text/plain": [
       "'1️⃣ ranker․com (2.4 times per user)'"
      ]
     },
     "execution_count": 192,
     "metadata": {},
     "output_type": "execute_result"
    }
   ],
   "source": [
    "obj"
   ]
  },
  {
   "cell_type": "code",
   "execution_count": 184,
   "metadata": {},
   "outputs": [
    {
     "data": {
      "text/plain": [
       "True"
      ]
     },
     "execution_count": 184,
     "metadata": {},
     "output_type": "execute_result"
    }
   ],
   "source": [
    "bytes(obj, 'utf-8').startswith(one_emoji_bstring)"
   ]
  },
  {
   "cell_type": "code",
   "execution_count": 168,
   "metadata": {},
   "outputs": [],
   "source": [
    "entitiy = tweets[5]['text'].split(\"\\n\")[4]"
   ]
  },
  {
   "cell_type": "code",
   "execution_count": 169,
   "metadata": {},
   "outputs": [
    {
     "data": {
      "text/plain": [
       "'4️⃣ facebook․com (1.5x)'"
      ]
     },
     "execution_count": 169,
     "metadata": {},
     "output_type": "execute_result"
    }
   ],
   "source": [
    "entitiy"
   ]
  },
  {
   "cell_type": "code",
   "execution_count": 173,
   "metadata": {},
   "outputs": [
    {
     "data": {
      "text/plain": [
       "['4️⃣', 'facebook․com', '(1.5x)']"
      ]
     },
     "execution_count": 173,
     "metadata": {},
     "output_type": "execute_result"
    }
   ],
   "source": [
    "entitiy.split(\" \")"
   ]
  },
  {
   "cell_type": "code",
   "execution_count": 171,
   "metadata": {},
   "outputs": [
    {
     "name": "stdout",
     "output_type": "stream",
     "text": [
      "These sites were shown most frequently to our panelists today:\n",
      "1️⃣ ranker․com (2.4 times per user)\n",
      "2️⃣ amazon․com (2.2x)\n",
      "3️⃣ tribel․app․link (1.9x)\n",
      "4️⃣ facebook․com (1.5x)\n",
      "5️⃣ youtube․com (1.5x)\n"
     ]
    }
   ],
   "source": [
    "print(tweets[5]['text'])"
   ]
  },
  {
   "cell_type": "code",
   "execution_count": 159,
   "metadata": {},
   "outputs": [
    {
     "data": {
      "text/plain": [
       "b'1\\xc3\\xa2\\xc2\\x83\\xc2\\xa3'"
      ]
     },
     "execution_count": 159,
     "metadata": {},
     "output_type": "execute_result"
    }
   ],
   "source": [
    "bytes('\\x31\\xE2\\x83\\xA3', 'utf-8')"
   ]
  },
  {
   "cell_type": "code",
   "execution_count": 160,
   "metadata": {},
   "outputs": [
    {
     "data": {
      "text/plain": [
       "b'These sites were shown most frequently to our panelists today:\\n1\\xef\\xb8\\x8f\\xe2\\x83\\xa3 ranker\\xe2\\x80\\xa4com (2.4 times per user)\\n2\\xef\\xb8\\x8f\\xe2\\x83\\xa3 amazon\\xe2\\x80\\xa4com (2.2x)\\n3\\xef\\xb8\\x8f\\xe2\\x83\\xa3 tribel\\xe2\\x80\\xa4app\\xe2\\x80\\xa4link (1.9x)\\n4\\xef\\xb8\\x8f\\xe2\\x83\\xa3 facebook\\xe2\\x80\\xa4com (1.5x)\\n5\\xef\\xb8\\x8f\\xe2\\x83\\xa3 youtube\\xe2\\x80\\xa4com (1.5x)'"
      ]
     },
     "execution_count": 160,
     "metadata": {},
     "output_type": "execute_result"
    }
   ],
   "source": [
    "bstring"
   ]
  },
  {
   "cell_type": "code",
   "execution_count": 153,
   "metadata": {},
   "outputs": [
    {
     "ename": "ModuleNotFoundError",
     "evalue": "No module named 'unicode'",
     "output_type": "error",
     "traceback": [
      "\u001b[0;31m---------------------------------------------------------------------------\u001b[0m",
      "\u001b[0;31mModuleNotFoundError\u001b[0m                       Traceback (most recent call last)",
      "\u001b[0;32m<ipython-input-153-15293d0741a3>\u001b[0m in \u001b[0;36m<module>\u001b[0;34m\u001b[0m\n\u001b[0;32m----> 1\u001b[0;31m \u001b[0;32mimport\u001b[0m \u001b[0municode\u001b[0m\u001b[0;34m\u001b[0m\u001b[0;34m\u001b[0m\u001b[0m\n\u001b[0m",
      "\u001b[0;31mModuleNotFoundError\u001b[0m: No module named 'unicode'"
     ]
    }
   ],
   "source": [
    "import unicode"
   ]
  },
  {
   "cell_type": "code",
   "execution_count": null,
   "metadata": {},
   "outputs": [],
   "source": []
  },
  {
   "cell_type": "code",
   "execution_count": 149,
   "metadata": {},
   "outputs": [
    {
     "data": {
      "text/plain": [
       "False"
      ]
     },
     "execution_count": 149,
     "metadata": {},
     "output_type": "execute_result"
    }
   ],
   "source": [
    "\"U+0031 U+20E3\" in tweets[5]['text']"
   ]
  },
  {
   "cell_type": "code",
   "execution_count": 140,
   "metadata": {},
   "outputs": [
    {
     "data": {
      "text/plain": [
       "762"
      ]
     },
     "execution_count": 140,
     "metadata": {},
     "output_type": "execute_result"
    }
   ],
   "source": [
    "len(tweets)"
   ]
  },
  {
   "cell_type": "code",
   "execution_count": 88,
   "metadata": {},
   "outputs": [],
   "source": [
    "def is_fbtopten_tweet_i_want(tweet_text):\n",
    "    \"\"\"\n",
    "    Check that the tweet contains all top ten positions.\n",
    "    \n",
    "    text_tweet (str) : the tweet text\n",
    "    \n",
    "    output (bool) : whether it is a tweet we want or not\n",
    "    \"\"\"\n",
    "    topten = ['1.', '2.', '3.', '4.', '5.', '6.', '7.', '8.', '9.', '10.']\n",
    "    return any(rank in tweet_text for rank in topten)"
   ]
  },
  {
   "cell_type": "code",
   "execution_count": 77,
   "metadata": {},
   "outputs": [],
   "source": [
    "def get_fb_top_ten(tweet_text):\n",
    "    \"\"\"\n",
    "    Extract the top ten reported by fbtopten account.\n",
    "    \n",
    "    \n",
    "    \"\"\"\n",
    "    ranks = ['1.', '2.', '3.', '4.', '5.', '6.', '7.', '8.', '9.', '10.']\n",
    "    \n",
    "    topten = []\n",
    "    \n",
    "    for obj in tweet_text.split('\\n'):\n",
    "        \n",
    "        for rank in ranks:\n",
    "            if obj.startswith(rank):\n",
    "                topten.append( obj.replace(f\"{rank} \", '') )\n",
    "    \n",
    "    return topten"
   ]
  },
  {
   "cell_type": "code",
   "execution_count": null,
   "metadata": {},
   "outputs": [],
   "source": []
  },
  {
   "cell_type": "code",
   "execution_count": 89,
   "metadata": {
    "scrolled": true
   },
   "outputs": [
    {
     "name": "stdout",
     "output_type": "stream",
     "text": [
      "ESPN FC\n",
      "1558121200357892097\n",
      "allkpop\n",
      "1557758812525830145\n",
      "kpop\n",
      "1551235823273656320\n",
      "C Sports Bay Area / California\n",
      "1539277014531727361\n",
      "al\n",
      "1527318221145051138\n",
      "s\n",
      "1520071139736928256\n",
      "CNN\n",
      "1516446578894065677\n",
      "ို\n",
      "1509561210894798851\n",
      ". Ben Shapiro\n",
      "1482744509033336841\n",
      "Note: posts by UNICEF are boosted by a Facebook Covid-19 info panel.\n",
      "1480570179323142152\n",
      "Note: posts by UNICEF are boosted by a Facebook Covid-19 info panel.\n",
      "1474409585083662337\n",
      "Note: posts by UNICEF are boosted by a Facebook Covid-19 info panel.\n",
      "1474047198044340226\n",
      "Note: posts by UNICEF are boosted by a Facebook Covid-19 info panel.\n",
      "1471510486931755019\n",
      "Note: posts by UNICEF are boosted by a Facebook Covid-19 info panel.\n",
      "1470060929916325889\n",
      "iams\n",
      "1466437052367527940\n",
      "Note: posts by UNICEF are boosted by a Facebook Covid-19 info panel.\n",
      "1458102127449067541\n",
      "Note: posts by UNICEF are boosted by a Facebook Covid-19 info panel.\n",
      "1452303922027192328\n",
      "Note: posts by UNICEF are boosted by a Facebook Covid-19 info panel.\n",
      "1451579144119201798\n",
      "Note: a post by UNICEF was excluded from this list because it was boosted by a Facebook Covid-19 info panel.\n",
      "1445366474340769796\n",
      "Note: a post by UNICEF was excluded from this list because it was boosted by a Facebook Covid-19 info panel.\n",
      "1435975579552022529\n",
      "Note: a post by UNICEF was excluded from this list because it was boosted by a Facebook Covid-19 info panel.\n",
      "1435251580723290113\n",
      "Note: two posts by UNICEF were excluded from this list because they were boosted by a Facebook Covid-19 info panel.\n",
      "1433446700400578564\n",
      "Note: a post by UNICEF was excluded from this list because it was boosted by a Facebook Covid-19 info panel.\n",
      "1433091613392211971\n",
      "Note: two posts by UNICEF were excluded from this list because they were boosted by a Facebook Covid-19 info panel.\n",
      "1432706017750626306\n",
      "Note: two posts by UNICEF were excluded from this list because they were boosted by a Facebook Covid-19 info panel.\n",
      "1432360279426289673\n",
      "Note: a post by UNICEF was excluded from this list because it was boosted by a Facebook Covid-19 info panel.\n",
      "1428751955426308101\n",
      "Note: two posts by UNICEF were excluded from this list because they were boosted by a Facebook Covid-19 info panel.\n",
      "1428031222794448906\n",
      "Note: a post by UNICEF was excluded from this list because it was boosted by a Facebook Covid-19 info panel.\n",
      "1427643009810763781\n",
      "Note: a post by UNICEF was excluded from this list because it was boosted by a Facebook Covid-19 info panel.\n",
      "1426244721316286465\n",
      "Note: a post by UNICEF was excluded from this list because it was boosted by a Facebook Covid-19 info panel.\n",
      "1425095561602953216\n",
      "Note: a post by UNICEF En Español was excluded from this list because it was boosted by a Facebook Covid-19 info panel.\n",
      "1424751669183537164\n",
      "Note: a post by UNICEF was excluded from this list because it was boosted by a Facebook Covid-19 info panel.\n",
      "1422193176509652995\n",
      "Note: a post by UNICEF was excluded from this list because it was boosted by a Facebook Covid-19 info panel.\n",
      "1420439689668882434\n",
      "Note: a post by UNICEF was excluded from this list because it was boosted by a Facebook Covid-19 info panel.\n",
      "1420107524573851651\n",
      "Note: a post by UNICEF En Español was excluded from this list because it was boosted by a Facebook Covid-19 info panel.\n",
      "1419676669879623680\n",
      "Note: a post by UNICEF was excluded from this list because it was boosted by a Facebook Covid-19 info panel.\n",
      "1418680674450493443\n",
      "Note: two posts by UNICEF were excluded from this list because they were boosted by a Facebook Covid-19 info panel.\n",
      "1418274304836309001\n",
      "Note: two posts by UNICEF were excluded from this list because they were boosted by a Facebook Covid-19 info panel.\n",
      "1417705437969850368\n",
      "Note: three posts by UNICEF were excluded from this list because they were boosted by a Facebook Covid-19 info panel.\n",
      "1417344251059343360\n",
      "Note: a post by UNICEF En Español was excluded from this list because it was boosted by a Facebook Covid-19 info panel.\n",
      "1416089668500693000\n",
      "Note: a post by UNICEF was excluded from this list because it was boosted by a Facebook Covid-19 info panel.\n",
      "1415324620291395591\n",
      "Note: two posts by UNICEF were excluded from this list because they were boosted by a Facebook Covid-19 info panel.\n",
      "1414993360348012548\n",
      "Note: a post by UNICEF was excluded from this list because it was boosted by a Facebook Covid-19 info panel.\n",
      "1409557434448764929\n",
      "Note: two posts by UNICEF were excluded from this list because they were boosted by a Facebook Covid-19 info panel.\n",
      "1406993181183340544\n",
      "Note: a post by UNICEF was excluded from this list because it was boosted by a Facebook Covid-19 info panel.\n",
      "1405897599945641995\n",
      "Note: two posts by UNICEF were excluded from this list because they were boosted by a Facebook Covid-19 info panel.\n",
      "1405568380921282561\n",
      "Note: a post by UNICEF was excluded from this list because it was boosted by a Facebook Covid-19 info panel.\n",
      "1405183984309477376\n",
      "Note: two posts by UNICEF were excluded from this list because they were boosted by a Facebook Covid-19 info panel.\n",
      "1404483362622902277\n",
      "Note: a post by UNICEF was excluded from this list because it was boosted by a Facebook Covid-19 info panel.\n",
      "1402660550639718402\n",
      "Note: a post by UNICEF was excluded from this list because it was boosted by a Facebook Covid-19 info panel.\n",
      "1402319410195402752\n",
      "Note: two posts were excluded from this list. One post, by UNICEF, was boosted by a Facebook Covid-19 info panel. The other, a \"life event\" post by Rafa Nadal, appears to have been included as the result of a CrowdTangle bug.\n",
      "1402000828953595905\n",
      "Note: a post by UNICEF was excluded from this list because it was boosted by a Facebook Covid-19 info panel.\n",
      "1400173211732619272\n",
      "Note: two posts by UNICEF were excluded from this list because they were boosted by a Facebook Covid-19 info panel.\n",
      "1399792241846091780\n",
      "Note: two posts by UNICEF were excluded from this list because they were boosted by a Facebook Covid-19 info panel.\n",
      "1398318543758790657\n",
      "Note: a post by UNICEF was excluded from this list because it was boosted by a Facebook Covid-19 info panel.\n",
      "1397941474235277314\n",
      "Note: 3 posts by UNICEF were excluded from this list because they were boosted by a Facebook Covid-19 info panel.\n",
      "1397594054896930821\n",
      "Note: a post by UNICEF was excluded from this list because it was boosted by a Facebook Covid-19 info panel.\n",
      "1397249037829558277\n",
      "Note: a post by UNICEF was excluded from this list because it was boosted by a Facebook Covid-19 info panel.\n",
      "1396871227575128069\n",
      "Note: a post by UNICEF was excluded from this list because it was boosted by a Facebook Covid-19 info panel.\n",
      "1394360481486237698\n",
      "Note: a post by UNICEF was excluded from this list because it was boosted by a Facebook Covid-19 info panel.\n",
      "1393001776861700096\n",
      "Note: a post by UNICEF was excluded from this list because it was boosted by a Facebook Covid-19 info panel.\n",
      "1390303130479259661\n",
      "Note: two posts by UNICEF were excluded from this list because they were boosted by a Facebook Covid-19 info panel.\n",
      "1389948339194499080\n",
      "Note: a post by UNICEF was excluded from this list because it was boosted by a Facebook Covid-19 info panel.\n",
      "1389598126860734464\n",
      "Note: a post by UNICEF was excluded from this list because it was boosted by a Facebook Covid-19 info panel.\n",
      "1389241514501369861\n",
      "Note: several posts by UNICEF were excluded from this list because they were boosted by a Facebook Covid-19 info panel.\n",
      "1387470649283661826\n",
      "Note: a post by UNICEF was excluded from this list because it was boosted by a Facebook Covid-19 info panel.\n",
      "1387053949836951556\n",
      "Note: a post by UNICEF was excluded from this list because it was boosted by a Facebook Covid-19 info panel.\n",
      "1385630391407718401\n",
      "Note: a post by UNICEF was excluded from this list because it was boosted by a Facebook Covid-19 info panel.\n",
      "1384203301411950605\n",
      "Note: a post by UNICEF was excluded from this list because it was boosted by a Facebook Covid-19 info panel.\n",
      "1379447112111288328\n",
      "Note: two posts by UNICEF were excluded from this list because they were boosted by a Facebook Covid-19 info panel.\n",
      "1377660806100262916\n",
      "Note: two posts by UNICEF were excluded from this list because they were boosted by a Facebook Covid-19 info panel.\n",
      "1377275536519569408\n",
      "Note: a post by UNICEF was excluded from this list because it was boosted by a Facebook Covid-19 info panel.\n",
      "1376585159290494979\n",
      "Note: two posts by UNICEF were excluded from this list because they were boosted by a Facebook Covid-19 info panel.\n",
      "1374017485855330307\n",
      "Note: a post by UNICEF was excluded from this list because it was boosted by a Facebook Covid-19 info panels.\n",
      "1372937197234446337\n",
      "Note: a post by UNICEF was excluded from this list because it was boosted by a Facebook Covid-19 info panel.\n",
      "1371476046483181571\n",
      "Note: two posts by UNICEF were excluded from this list because they were boosted by a Facebook Covid-19 info panel.\n",
      "1370422959551049730\n",
      "Note: 3 posts by UNICEF were excluded from this list because they were boosted by a Facebook Covid-19 info panel.\n",
      "1370059954627899394\n",
      "Note: a post by UNICEF was excluded from this list because it was boosted by a Facebook Covid-19 info panel.\n",
      "1367145424230830084\n",
      "Note: a post by UNICEF was excluded from this list because it was boosted by a Facebook Covid-19 info panel.\n",
      "1366785874688573440\n",
      "Note: a post by UNICEF was excluded from this list because it was boosted by a Facebook Covid-19 info panel.\n",
      "1365364743154794496\n",
      "Note: a post by UNICEF was excluded from this list because it was boosted by a Facebook Covid-19 info panel.\n",
      "1365048035294601217\n",
      "Note: two posts by UNICEF were excluded from this list because they were boosted by a Facebook Covid-19 info panel.\n",
      "1364616793633947650\n",
      "Note: a post by UNICEF was excluded from this list because it was boosted by a Facebook Covid-19 info panel.\n",
      "1359897839933923329\n",
      "Note: a post by UNICEF was excluded from this list because it was boosted by a Facebook Covid-19 info panel.\n",
      "1359540801571676163\n",
      "Note: a post by UNICEF was excluded from this list because it was boosted by a Facebook Covid-19 info panel.\n",
      "1359184530834296834\n",
      "Note: a post by UNICEF was excluded from this list because it was boosted by a Facebook Covid-19 info panel.\n",
      "1358828782187016193\n",
      "Note: a post by UNICEF was excluded from this list because it was boosted by a Facebook Covid-19 info panel.\n",
      "1357732265313271810\n",
      "Note: a post by UNICEF was excluded from this list because it was boosted by a Facebook Covid-19 info panel.\n",
      "1357364369227567105\n",
      "Note: a post by UNICEF was excluded from this list because it was boosted by a Facebook Covid-19 info panel.\n",
      "1352634249812217856\n",
      "Note: a post by UNICEF was excluded from this list because it was boosted by a Facebook Covid-19 info panel.\n",
      "1352288399068020736\n",
      "Note: a post by UNICEF was excluded from this list because it was boosted by a Facebook Covid-19 info panel.\n",
      "1351918224443523082\n",
      "Note: a post by UNICEF was excluded from this list because it was boosted by a Facebook Covid-19 info panel.\n",
      "1351550487707881478\n",
      "Note: a post by UNICEF was excluded from this list because it was boosted by a Facebook Covid-19 info panel.\n",
      "1350156655061700610\n",
      "Note: a post by UNICEF was excluded from this list because it was boosted by a Facebook Covid-19 info panel.\n",
      "1348665561559961605\n",
      "Note: a post by UNICEF was excluded from this list because it was boosted by a Facebook Covid-19 info panel.\n",
      "1346855458250788864\n",
      "Note: two posts by UNICEF were excluded from this list because they were boosted by a Facebook Covid-19 info panel.\n",
      "1346130516848754689\n",
      "Note: a post by UNICEF was excluded from this list because it was boosted by a Facebook Covid-19 info panel.\n",
      "1339981475769274374\n",
      "Note: a post by UNICEF was excluded from this list because it was boosted by a Facebook Covid-19 info panel.\n",
      "1338883631171825664\n",
      "Note: a post by UNICEF was excluded from this list because it was boosted by a Facebook Covid-19 info panel.\n",
      "1338503560221184002\n",
      "Note: two posts by UNICEF were excluded from this list because they were boosted by a Facebook Covid-19 info panel.\n",
      "1337433369852825600\n",
      "Note: a post by UNICEF was excluded from this list because it was boosted by a Facebook Covid-19 info panel.\n",
      "1337069420674306048\n",
      "Note: a post by UNICEF was excluded from this list because it was boosted by a Facebook Covid-19 info panel.\n",
      "1336742418931040256\n",
      "Note: a post by UNICEF was excluded from this list because it was boosted by a Facebook Covid-19 info panel.\n",
      "1335993509321474050\n",
      "Note: a post by UNICEF was excluded from this list because it was boosted by a Facebook Covid-19 info panel.\n",
      "1334525270682787840\n",
      "Note: a post by UNICEF was excluded from this list because it was boosted by a Facebook Covid-19 info panel.\n",
      "1334172483985960960\n",
      "Note: a post by UNICEF was excluded from this list because it was boosted by a Facebook Covid-19 info panel.\n",
      "1333795306102693889\n",
      "Note: two posts by UNICEF were excluded from this list because they were boosted by a Facebook Covid-19 info panel.\n",
      "1329822699879731200\n",
      "Note: a post by AARP was excluded from this list because it was boosted by a Facebook Covid-19 info panel.\n",
      "1328361401342038016\n",
      "Note: a post by AARP was excluded from this list because it was boosted by a Facebook Covid-19 info panel.\n",
      "1322193893606084609\n",
      "Note: a post by UNICEF was excluded from this list because it was boosted by a Facebook Covid-19 info panel.\n",
      "1321455058458832901\n",
      "Note: a post by UNICEF was excluded from this list because it was boosted by a Facebook Covid-19 info panel.\n",
      "1321104220309704704\n",
      "Note: a post by UNICEF was excluded from this list because it was boosted by a Facebook Covid-19 info panel.\n",
      "1320739834298728448\n",
      "Note: a post by UNICEF was excluded from this list because it was boosted by a Facebook Covid-19 info panel.\n",
      "1319666795880480768\n",
      "This account uses data from CrowdTangle, a Facebook-owned analytics platform. See this post for more details about what the data does (and doesn't) capture. https://t.co/D9zUvRIykH\n",
      "1318315929126666240\n",
      "Note: a post by UNICEF was excluded from this list because it was boosted by a Facebook Covid-19 info panel.\n",
      "1317862083489275905\n",
      "Note: two posts by UNICEF were excluded from this list because they were boosted by a Facebook Covid-19 info panel.\n",
      "1316749970591031297\n",
      "Note: two posts by UNICEF were excluded from this list because they were boosted by a Facebook Covid-19 info panel.\n",
      "1316027582765121538\n",
      "Note: a post by AARP was excluded from this list because it was boosted by a Facebook Covid-19 info panel.\n",
      "1313503909155987460\n",
      "Note: posts by AARP and UNICEF were excluded from this list because they were boosted by a Facebook Covid-19 info panel.\n",
      "1312046070487158784\n",
      "@raffideuce Hi, the list is designed to reflect organic engagement, and while not technically ads, the UNICEF/AARP posts benefit from ad-like distribution through info panels.\n",
      "1311389319819452416\n",
      "Note: a post by UNICEF was excluded from this list because it was boosted by a Facebook Covid-19 info panel.\n",
      "1311315373614985216\n",
      "Note: a post by UNICEF USA was excluded from this list because it was boosted by a Facebook Covid-19 info panel.\n",
      "1310965144122347526\n",
      "Note: a post by AARP was excluded from this list because it was boosted by a Facebook Covid-19 info panel.\n",
      "1310591527379369988\n",
      "Note: a post by AARP was excluded from this list because it was boosted by a Facebook Covid-19 info panel.\n",
      "1310264575325949953\n",
      "Note: a post by AARP was excluded from this list because it was boosted by a Facebook Covid-19 info panel.\n",
      "1309918761915310081\n",
      "Note: two posts by UNICEF were excluded from this list because they were boosted by a Facebook Covid-19 info panel.\n",
      "1309516590598164480\n",
      "Note: two posts by AARP were excluded from this list because they were promoted by a Facebook Covid-19 info panel.\n",
      "1309147412351447040\n",
      "Note: three posts by UNICEF were excluded from this list because they were boosted by a Facebook Covid-19 info panel.\n",
      "1306990418874134529\n",
      "Note: a post by UNICEF was excluded from this list because it was boosted by a Facebook Covid-19 info panel.\n",
      "1306603862048927747\n",
      "Note: two posts by UNICEF were excluded from this list because they were boosted by a Facebook Covid-19 info panel.\n",
      "1305164677043814404\n",
      "Note: a post by UNICEF was excluded from this list because it was boosted by a Facebook Covid-19 info panel.\n",
      "1304835165651267585\n",
      "Note: three posts (one by AARP, two by UNICEF) were excluded from this list because they were boosted by a Facebook Covid-19 info panel.\n",
      "1304419961100668929\n",
      "Note: two posts by UNICEF were excluded from this list because they were boosted by a Facebook Covid-19 info panel.\n",
      "1304068250020401152\n",
      "Note: a post by AARP was excluded from this list because it was boosted by a Facebook Covid-19 info panel.\n",
      "1303005559654735884\n",
      "Note: a post by UNICEF was excluded from this list because it was boosted by a Facebook Covid-19 info panel.\n",
      "1302656402201083904\n",
      "Note: two posts by UNICEF were excluded from this list because they were boosted by a Facebook Covid-19 info panel.\n",
      "1301902040440864768\n",
      "Note: a post by AARP was excluded from this list because it was boosted by a Facebook Covid-19 info panel.\n",
      "1301550758932803584\n",
      "Note: a post by UNICEF was excluded from this list because it was boosted by a Facebook Covid-19 info panel.\n",
      "1301183839444688898\n",
      "Note: three posts — two by AARP, one by UNICEF — were excluded from this list because they were boosted by a Facebook Covid-19 info panel.\n",
      "1300836642110894080\n",
      "Note: three posts by UNICEF were excluded from this list because they were boosted by a Facebook Covid-19 info panel.\n",
      "1300484944053952512\n",
      "Note: a post by AARP was excluded from this list because it was boosted by a Facebook Covid-19 info panel.\n",
      "1299417957957808131\n",
      "Note: a post by UNICEF was excluded from this list because it was boosted by a Facebook Covid-19 info panel.\n",
      "1299062060463001600\n",
      "Note: 3 posts from UNICEF were excluded from this list because they were boosted by a Facebook Covid-19 info panel.\n",
      "1298708074664849409\n",
      "Note: a post by AARP was excluded from this list because it was boosted by a Facebook Covid-19 info panel.\n",
      "1298426604905930752\n",
      "Note: a post by AARP was excluded from this list because it was boosted by a Facebook Covid-19 info panel.\n",
      "1297975800487006208\n",
      "Note: a post by UNICEF was excluded from this list because it was boosted by a Facebook Covid-19 info panel.\n",
      "1296535507074052096\n",
      "Note: two posts — one by UNICEF, one by AARP — were excluded from this list because they were boosted by a Facebook Covid-19 info panel.\n",
      "1296238249300525056\n",
      "Note: two posts by UNICEF were excluded from this list because they were boosted by a Facebook Covid-19 info panel.\n",
      "1295775169701543936\n",
      "Note: a post by UNICEF USA was excluded from this list because it was boosted by a Facebook Covid-19 info panel.\n",
      "1295405317455409153\n",
      "Note: a post by UNICEF was excluded from this list because it was boosted by a Facebook Covid-19 info panel.\n",
      "1294311525008601088\n",
      "Note: a post by UNICEF was excluded from this list because it was boosted by a Facebook Covid-19 info panel.\n",
      "1293936548170194944\n",
      "Note: a post from AARP was excluded from this list because it was boosted by a Facebook Covid-19 info panel.\n",
      "1293237636404936706\n",
      "Note: a post from UNICEF was excluded from this list because it was boosted by a Facebook Covid-19 info panel.\n",
      "1291452254768177152\n",
      "Note: a post by AARP was excluded from this list because it was boosted by a Facebook Covid-19 info panel.\n",
      "1291082299484672001\n",
      "Note: two posts by UNICEF were excluded from this list because they were boosted by a Facebook Covid-19 info panel.\n",
      "1290730302550052864\n",
      "Note: this list excludes a post by UNICEF that was boosted by a Facebook Covid-19 info panel.\n",
      "1290325454801391618\n",
      "Note: a post by AARP that would have been #5 on this list was excluded because it was boosted by a Facebook Covid-19 info panel.\n",
      "1287828491887468544\n",
      "Note: 2 posts by UNICEF, which would have appeared on this list, were excluded because they were boosted by a Facebook Covid-19 info panel.\n",
      "1286734587368890368\n",
      "Note: a post by UNICEF, which would have appeared as #3, was excluded from the list because it was boosted by Facebook as part of a COVID-19 info panel.\n",
      "1286324739821064193\n"
     ]
    }
   ],
   "source": [
    "from collections import defaultdict\n",
    "\n",
    "fb_top_ten_all_data = defaultdict(list)\n",
    "\n",
    "for tweet in tweets:\n",
    "    tweet_text = tweet['text']\n",
    "    \n",
    "    if not is_tweet_i_want(tweet_text):\n",
    "        print(tweet_text)\n",
    "        print(tweet['id'])\n",
    "        continue\n",
    "\n",
    "    created_dt = dateutil.parser.isoparse(tweet['created_at'])\n",
    "    date_key = created_dt.strftime(\"%Y_%m\")\n",
    "    \n",
    "    try:\n",
    "#         print(\"parsing top ten...\")\n",
    "        top_ten = get_top_ten(tweet_text)\n",
    "    except:\n",
    "        print(\"Ran into a problem parsing the top ten. Skipping the below tweet...\")\n",
    "        print(\"-\"*50)\n",
    "        print(tweet_text)\n",
    "        print(\"-\"*50)\n",
    "    \n",
    "    fb_top_ten_all_data[date_key].extend(top_ten)"
   ]
  },
  {
   "cell_type": "code",
   "execution_count": 136,
   "metadata": {},
   "outputs": [],
   "source": [
    "def get_fb_top_ten(tweet_text):\n",
    "    \"\"\"\n",
    "    Extract the top ten reported by fbtopten account.\n",
    "\n",
    "    Parameter:\n",
    "    ----------\n",
    "    - text_tweet (str) : the tweet text\n",
    "\n",
    "    Return:\n",
    "    ----------\n",
    "    - topten (list) : the entities that have been extracted\n",
    "    \"\"\"\n",
    "    ranks = [\"1.\", \"2.\", \"3.\", \"4.\", \"5.\", \"6.\", \"7.\", \"8.\", \"9.\", \"10.\"]\n",
    "\n",
    "    topten = []\n",
    "    for obj in tweet_text.split(\"\\n\"):\n",
    "\n",
    "        for rank in ranks:\n",
    "            if obj.startswith(rank):\n",
    "                topten.append(obj.replace(f\"{rank} \", \"\"))\n",
    "\n",
    "    return topten"
   ]
  },
  {
   "cell_type": "code",
   "execution_count": 138,
   "metadata": {},
   "outputs": [
    {
     "data": {
      "text/plain": [
       "['Franklin Graham',\n",
       " 'Fox News',\n",
       " 'David J. Harris Jr.',\n",
       " 'Fox News',\n",
       " 'Blue Lives Matter',\n",
       " 'Donald J. Trump',\n",
       " 'Blue Lives Matter',\n",
       " 'Sean Hannity',\n",
       " 'Blue Lives Matter',\n",
       " 'Judicial Watch']"
      ]
     },
     "execution_count": 138,
     "metadata": {},
     "output_type": "execute_result"
    }
   ],
   "source": [
    "get_fb_top_ten(tweet_text)"
   ]
  },
  {
   "cell_type": "code",
   "execution_count": 87,
   "metadata": {},
   "outputs": [
    {
     "data": {
      "text/plain": [
       "dict_keys(['2022_08', '2022_07', '2022_06', '2022_05', '2022_04', '2022_03', '2022_02', '2022_01', '2021_12', '2021_11', '2021_10', '2021_09', '2021_08', '2021_07', '2021_06', '2021_05', '2021_04', '2021_03', '2021_02', '2021_01', '2020_12', '2020_11', '2020_10', '2020_09', '2020_08', '2020_07'])"
      ]
     },
     "execution_count": 87,
     "metadata": {},
     "output_type": "execute_result"
    }
   ],
   "source": [
    "all_data.keys()"
   ]
  },
  {
   "cell_type": "code",
   "execution_count": 91,
   "metadata": {},
   "outputs": [],
   "source": [
    "from collections import Counter"
   ]
  },
  {
   "cell_type": "code",
   "execution_count": 94,
   "metadata": {},
   "outputs": [],
   "source": [
    "total_counter = Counter()\n",
    "\n",
    "for key, entities in all_data.items():\n",
    "    \n",
    "    for ent in entities:\n",
    "        total_counter[ent] += 1"
   ]
  },
  {
   "cell_type": "code",
   "execution_count": 97,
   "metadata": {},
   "outputs": [],
   "source": [
    "import pandas as pd"
   ]
  },
  {
   "cell_type": "code",
   "execution_count": 102,
   "metadata": {},
   "outputs": [],
   "source": [
    "total_counts_frame = pd.DataFrame.from_dict(total_counter, orient='index').reset_index()"
   ]
  },
  {
   "cell_type": "code",
   "execution_count": 104,
   "metadata": {},
   "outputs": [],
   "source": [
    "total_counts_frame = total_counts_frame.rename(columns={'index':'entity_name', 0:'num_days'})"
   ]
  },
  {
   "cell_type": "code",
   "execution_count": 108,
   "metadata": {},
   "outputs": [],
   "source": [
    "import altair as alt"
   ]
  },
  {
   "cell_type": "code",
   "execution_count": 111,
   "metadata": {},
   "outputs": [],
   "source": [
    "total_counts_frame = total_counts_frame.sort_values('num_days', ascending=False).reset_index(drop=True)"
   ]
  },
  {
   "cell_type": "code",
   "execution_count": 112,
   "metadata": {},
   "outputs": [
    {
     "data": {
      "text/html": [
       "<div>\n",
       "<style scoped>\n",
       "    .dataframe tbody tr th:only-of-type {\n",
       "        vertical-align: middle;\n",
       "    }\n",
       "\n",
       "    .dataframe tbody tr th {\n",
       "        vertical-align: top;\n",
       "    }\n",
       "\n",
       "    .dataframe thead th {\n",
       "        text-align: right;\n",
       "    }\n",
       "</style>\n",
       "<table border=\"1\" class=\"dataframe\">\n",
       "  <thead>\n",
       "    <tr style=\"text-align: right;\">\n",
       "      <th></th>\n",
       "      <th>entity_name</th>\n",
       "      <th>num_days</th>\n",
       "    </tr>\n",
       "  </thead>\n",
       "  <tbody>\n",
       "    <tr>\n",
       "      <th>0</th>\n",
       "      <td>Ben Shapiro</td>\n",
       "      <td>991</td>\n",
       "    </tr>\n",
       "    <tr>\n",
       "      <th>1</th>\n",
       "      <td>Dan Bongino</td>\n",
       "      <td>633</td>\n",
       "    </tr>\n",
       "    <tr>\n",
       "      <th>2</th>\n",
       "      <td>Fox News</td>\n",
       "      <td>464</td>\n",
       "    </tr>\n",
       "    <tr>\n",
       "      <th>3</th>\n",
       "      <td>Franklin Graham</td>\n",
       "      <td>265</td>\n",
       "    </tr>\n",
       "    <tr>\n",
       "      <th>4</th>\n",
       "      <td>CNN</td>\n",
       "      <td>222</td>\n",
       "    </tr>\n",
       "    <tr>\n",
       "      <th>...</th>\n",
       "      <td>...</td>\n",
       "      <td>...</td>\n",
       "    </tr>\n",
       "    <tr>\n",
       "      <th>638</th>\n",
       "      <td>News Channel 3 WWMT TV</td>\n",
       "      <td>1</td>\n",
       "    </tr>\n",
       "    <tr>\n",
       "      <th>639</th>\n",
       "      <td>Taunton Daily Gazette</td>\n",
       "      <td>1</td>\n",
       "    </tr>\n",
       "    <tr>\n",
       "      <th>640</th>\n",
       "      <td>Nelly</td>\n",
       "      <td>1</td>\n",
       "    </tr>\n",
       "    <tr>\n",
       "      <th>641</th>\n",
       "      <td>CNBC Make It</td>\n",
       "      <td>1</td>\n",
       "    </tr>\n",
       "    <tr>\n",
       "      <th>642</th>\n",
       "      <td>Prager U</td>\n",
       "      <td>1</td>\n",
       "    </tr>\n",
       "  </tbody>\n",
       "</table>\n",
       "<p>643 rows × 2 columns</p>\n",
       "</div>"
      ],
      "text/plain": [
       "                entity_name  num_days\n",
       "0               Ben Shapiro       991\n",
       "1               Dan Bongino       633\n",
       "2                  Fox News       464\n",
       "3           Franklin Graham       265\n",
       "4                       CNN       222\n",
       "..                      ...       ...\n",
       "638  News Channel 3 WWMT TV         1\n",
       "639   Taunton Daily Gazette         1\n",
       "640                   Nelly         1\n",
       "641            CNBC Make It         1\n",
       "642                Prager U         1\n",
       "\n",
       "[643 rows x 2 columns]"
      ]
     },
     "execution_count": 112,
     "metadata": {},
     "output_type": "execute_result"
    }
   ],
   "source": [
    "total_counts_frame"
   ]
  },
  {
   "cell_type": "code",
   "execution_count": 116,
   "metadata": {},
   "outputs": [
    {
     "data": {
      "text/plain": [
       "dict_keys(['2022_08', '2022_07', '2022_06', '2022_05', '2022_04', '2022_03', '2022_02', '2022_01', '2021_12', '2021_11', '2021_10', '2021_09', '2021_08', '2021_07', '2021_06', '2021_05', '2021_04', '2021_03', '2021_02', '2021_01', '2020_12', '2020_11', '2020_10', '2020_09', '2020_08', '2020_07'])"
      ]
     },
     "execution_count": 116,
     "metadata": {},
     "output_type": "execute_result"
    }
   ],
   "source": [
    "all_data.keys()"
   ]
  },
  {
   "cell_type": "code",
   "execution_count": 135,
   "metadata": {},
   "outputs": [
    {
     "data": {
      "text/html": [
       "\n",
       "<div id=\"altair-viz-5afb9ac26bfe49cd948aca221b102ae0\"></div>\n",
       "<script type=\"text/javascript\">\n",
       "  (function(spec, embedOpt){\n",
       "    let outputDiv = document.currentScript.previousElementSibling;\n",
       "    if (outputDiv.id !== \"altair-viz-5afb9ac26bfe49cd948aca221b102ae0\") {\n",
       "      outputDiv = document.getElementById(\"altair-viz-5afb9ac26bfe49cd948aca221b102ae0\");\n",
       "    }\n",
       "    const paths = {\n",
       "      \"vega\": \"https://cdn.jsdelivr.net/npm//vega@5?noext\",\n",
       "      \"vega-lib\": \"https://cdn.jsdelivr.net/npm//vega-lib?noext\",\n",
       "      \"vega-lite\": \"https://cdn.jsdelivr.net/npm//vega-lite@4.8.1?noext\",\n",
       "      \"vega-embed\": \"https://cdn.jsdelivr.net/npm//vega-embed@6?noext\",\n",
       "    };\n",
       "\n",
       "    function loadScript(lib) {\n",
       "      return new Promise(function(resolve, reject) {\n",
       "        var s = document.createElement('script');\n",
       "        s.src = paths[lib];\n",
       "        s.async = true;\n",
       "        s.onload = () => resolve(paths[lib]);\n",
       "        s.onerror = () => reject(`Error loading script: ${paths[lib]}`);\n",
       "        document.getElementsByTagName(\"head\")[0].appendChild(s);\n",
       "      });\n",
       "    }\n",
       "\n",
       "    function showError(err) {\n",
       "      outputDiv.innerHTML = `<div class=\"error\" style=\"color:red;\">${err}</div>`;\n",
       "      throw err;\n",
       "    }\n",
       "\n",
       "    function displayChart(vegaEmbed) {\n",
       "      vegaEmbed(outputDiv, spec, embedOpt)\n",
       "        .catch(err => showError(`Javascript Error: ${err.message}<br>This usually means there's a typo in your chart specification. See the javascript console for the full traceback.`));\n",
       "    }\n",
       "\n",
       "    if(typeof define === \"function\" && define.amd) {\n",
       "      requirejs.config({paths});\n",
       "      require([\"vega-embed\"], displayChart, err => showError(`Error loading script: ${err.message}`));\n",
       "    } else if (typeof vegaEmbed === \"function\") {\n",
       "      displayChart(vegaEmbed);\n",
       "    } else {\n",
       "      loadScript(\"vega\")\n",
       "        .then(() => loadScript(\"vega-lite\"))\n",
       "        .then(() => loadScript(\"vega-embed\"))\n",
       "        .catch(showError)\n",
       "        .then(() => displayChart(vegaEmbed));\n",
       "    }\n",
       "  })({\"config\": {\"view\": {\"continuousWidth\": 400, \"continuousHeight\": 300}, \"axis\": {\"labelFontSize\": 15, \"titleFontSize\": 15}, \"title\": {\"fontSize\": 15}}, \"layer\": [{\"mark\": \"bar\", \"encoding\": {\"x\": {\"type\": \"quantitative\", \"field\": \"num_days\", \"title\": \"Number of days in top ten\"}, \"y\": {\"type\": \"nominal\", \"field\": \"entity_name\", \"sort\": \"-x\", \"title\": null}}, \"title\": \"Appearances in @FacebooksTop10 since July 2020\"}, {\"mark\": {\"type\": \"text\", \"dx\": 15, \"fontSize\": 15}, \"encoding\": {\"text\": {\"type\": \"quantitative\", \"field\": \"num_days\"}, \"x\": {\"type\": \"quantitative\", \"field\": \"num_days\"}, \"y\": {\"type\": \"nominal\", \"field\": \"entity_name\", \"sort\": \"-x\"}}, \"title\": \"Appearances in @FacebooksTop10 since July 2020\", \"width\": 400}], \"data\": {\"name\": \"data-c8251a18c336b648b7feaeb2c9c70d47\"}, \"$schema\": \"https://vega.github.io/schema/vega-lite/v4.8.1.json\", \"datasets\": {\"data-c8251a18c336b648b7feaeb2c9c70d47\": [{\"entity_name\": \"Ben Shapiro\", \"num_days\": 991}, {\"entity_name\": \"Dan Bongino\", \"num_days\": 633}, {\"entity_name\": \"Fox News\", \"num_days\": 464}, {\"entity_name\": \"Franklin Graham\", \"num_days\": 265}, {\"entity_name\": \"CNN\", \"num_days\": 222}, {\"entity_name\": \"Occupy Democrats\", \"num_days\": 217}, {\"entity_name\": \"NPR\", \"num_days\": 202}, {\"entity_name\": \"Breitbart\", \"num_days\": 178}, {\"entity_name\": \"allkpop\", \"num_days\": 103}, {\"entity_name\": \"The New York Times\", \"num_days\": 80}, {\"entity_name\": \"Sean Hannity\", \"num_days\": 78}, {\"entity_name\": \"TMZ\", \"num_days\": 78}, {\"entity_name\": \"Donald J. Trump\", \"num_days\": 71}, {\"entity_name\": \"ForAmerica\", \"num_days\": 62}, {\"entity_name\": \"The Dodo\", \"num_days\": 61}, {\"entity_name\": \"Newsmax\", \"num_days\": 58}, {\"entity_name\": \"Peachy Sunday\", \"num_days\": 47}, {\"entity_name\": \"People\", \"num_days\": 41}, {\"entity_name\": \"TWICE\", \"num_days\": 39}, {\"entity_name\": \"Robert Reich\", \"num_days\": 39}, {\"entity_name\": \"Dinesh D'Souza\", \"num_days\": 35}, {\"entity_name\": \"11Alive\", \"num_days\": 33}, {\"entity_name\": \"HuffPost\", \"num_days\": 32}, {\"entity_name\": \"Steven Crowder\", \"num_days\": 31}, {\"entity_name\": \"Donald Trump For President\", \"num_days\": 28}, {\"entity_name\": \"Blue Lives Matter\", \"num_days\": 27}, {\"entity_name\": \"The Other 98%\", \"num_days\": 25}, {\"entity_name\": \"USA Patriots for Donald Trump\", \"num_days\": 25}, {\"entity_name\": \"VOA Burmese News\", \"num_days\": 25}, {\"entity_name\": \"Variety\", \"num_days\": 24}, {\"entity_name\": \"Catholic Fundamentalism\", \"num_days\": 22}, {\"entity_name\": \"Love Meow\", \"num_days\": 22}, {\"entity_name\": \"Nick Adams\", \"num_days\": 22}, {\"entity_name\": \"People Royals\", \"num_days\": 20}, {\"entity_name\": \"David J. Harris Jr.\", \"num_days\": 20}, {\"entity_name\": \"ABC News\", \"num_days\": 18}, {\"entity_name\": \"ComicBook. com\", \"num_days\": 18}, {\"entity_name\": \"The Daily Caller\", \"num_days\": 18}, {\"entity_name\": \"Koreaboo\", \"num_days\": 17}, {\"entity_name\": \"Washington Post\", \"num_days\": 17}, {\"entity_name\": \"NBC News\", \"num_days\": 17}, {\"entity_name\": \"Cuteness overload\", \"num_days\": 17}, {\"entity_name\": \"Today Show\", \"num_days\": 17}, {\"entity_name\": \"Spoken Reasons\", \"num_days\": 16}, {\"entity_name\": \"Deadline Hollywood\", \"num_days\": 16}, {\"entity_name\": \"Dios Es Bueno\", \"num_days\": 16}, {\"entity_name\": \"Business Insider\", \"num_days\": 16}, {\"entity_name\": \"Glenn Beck\", \"num_days\": 15}, {\"entity_name\": \"Barack Obama\", \"num_days\": 15}, {\"entity_name\": \"E! News\", \"num_days\": 14}]}}, {\"mode\": \"vega-lite\"});\n",
       "</script>"
      ],
      "text/plain": [
       "alt.LayerChart(...)"
      ]
     },
     "execution_count": 135,
     "metadata": {},
     "output_type": "execute_result"
    }
   ],
   "source": [
    "bars = alt.Chart(\n",
    "    total_counts_frame.head(50),\n",
    "    title = \"Appearances in @FacebooksTop10 since July 2020\"\n",
    ").mark_bar().encode(\n",
    "    x = alt.X(\"num_days:Q\", title = 'Number of days in top ten'),\n",
    "    y = alt.Y('entity_name:N', sort='-x', title = None)\n",
    ")\n",
    "\n",
    "final = bars + bars.mark_text(dx=15,fontSize=15).encode(\n",
    "    x = alt.X(\"num_days:Q\"),\n",
    "    y = alt.Y('entity_name:N', sort='-x'),\n",
    "    text = alt.Text(\"num_days\")\n",
    ").properties(width=400)\n",
    "\n",
    "\n",
    "final.configure_axis(\n",
    "    titleFontSize=15,\n",
    "    labelFontSize=15\n",
    ").configure_title(\n",
    "    fontSize = 15\n",
    ")"
   ]
  },
  {
   "cell_type": "code",
   "execution_count": 107,
   "metadata": {},
   "outputs": [
    {
     "data": {
      "text/html": [
       "<div>\n",
       "<style scoped>\n",
       "    .dataframe tbody tr th:only-of-type {\n",
       "        vertical-align: middle;\n",
       "    }\n",
       "\n",
       "    .dataframe tbody tr th {\n",
       "        vertical-align: top;\n",
       "    }\n",
       "\n",
       "    .dataframe thead th {\n",
       "        text-align: right;\n",
       "    }\n",
       "</style>\n",
       "<table border=\"1\" class=\"dataframe\">\n",
       "  <thead>\n",
       "    <tr style=\"text-align: right;\">\n",
       "      <th></th>\n",
       "      <th>entity_name</th>\n",
       "      <th>num_days</th>\n",
       "    </tr>\n",
       "  </thead>\n",
       "  <tbody>\n",
       "    <tr>\n",
       "      <th>2</th>\n",
       "      <td>Ben Shapiro</td>\n",
       "      <td>991</td>\n",
       "    </tr>\n",
       "    <tr>\n",
       "      <th>10</th>\n",
       "      <td>Dan Bongino</td>\n",
       "      <td>633</td>\n",
       "    </tr>\n",
       "    <tr>\n",
       "      <th>4</th>\n",
       "      <td>Fox News</td>\n",
       "      <td>464</td>\n",
       "    </tr>\n",
       "    <tr>\n",
       "      <th>25</th>\n",
       "      <td>Franklin Graham</td>\n",
       "      <td>265</td>\n",
       "    </tr>\n",
       "    <tr>\n",
       "      <th>14</th>\n",
       "      <td>CNN</td>\n",
       "      <td>222</td>\n",
       "    </tr>\n",
       "    <tr>\n",
       "      <th>20</th>\n",
       "      <td>Occupy Democrats</td>\n",
       "      <td>217</td>\n",
       "    </tr>\n",
       "    <tr>\n",
       "      <th>0</th>\n",
       "      <td>NPR</td>\n",
       "      <td>202</td>\n",
       "    </tr>\n",
       "    <tr>\n",
       "      <th>5</th>\n",
       "      <td>Breitbart</td>\n",
       "      <td>178</td>\n",
       "    </tr>\n",
       "    <tr>\n",
       "      <th>12</th>\n",
       "      <td>allkpop</td>\n",
       "      <td>103</td>\n",
       "    </tr>\n",
       "    <tr>\n",
       "      <th>27</th>\n",
       "      <td>The New York Times</td>\n",
       "      <td>80</td>\n",
       "    </tr>\n",
       "    <tr>\n",
       "      <th>92</th>\n",
       "      <td>Sean Hannity</td>\n",
       "      <td>78</td>\n",
       "    </tr>\n",
       "    <tr>\n",
       "      <th>32</th>\n",
       "      <td>TMZ</td>\n",
       "      <td>78</td>\n",
       "    </tr>\n",
       "    <tr>\n",
       "      <th>595</th>\n",
       "      <td>Donald J. Trump</td>\n",
       "      <td>71</td>\n",
       "    </tr>\n",
       "    <tr>\n",
       "      <th>114</th>\n",
       "      <td>ForAmerica</td>\n",
       "      <td>62</td>\n",
       "    </tr>\n",
       "    <tr>\n",
       "      <th>66</th>\n",
       "      <td>The Dodo</td>\n",
       "      <td>61</td>\n",
       "    </tr>\n",
       "    <tr>\n",
       "      <th>55</th>\n",
       "      <td>Newsmax</td>\n",
       "      <td>58</td>\n",
       "    </tr>\n",
       "    <tr>\n",
       "      <th>16</th>\n",
       "      <td>Peachy Sunday</td>\n",
       "      <td>47</td>\n",
       "    </tr>\n",
       "    <tr>\n",
       "      <th>8</th>\n",
       "      <td>People</td>\n",
       "      <td>41</td>\n",
       "    </tr>\n",
       "    <tr>\n",
       "      <th>37</th>\n",
       "      <td>TWICE</td>\n",
       "      <td>39</td>\n",
       "    </tr>\n",
       "    <tr>\n",
       "      <th>161</th>\n",
       "      <td>Robert Reich</td>\n",
       "      <td>39</td>\n",
       "    </tr>\n",
       "    <tr>\n",
       "      <th>368</th>\n",
       "      <td>Dinesh D'Souza</td>\n",
       "      <td>35</td>\n",
       "    </tr>\n",
       "    <tr>\n",
       "      <th>9</th>\n",
       "      <td>11Alive</td>\n",
       "      <td>33</td>\n",
       "    </tr>\n",
       "    <tr>\n",
       "      <th>17</th>\n",
       "      <td>HuffPost</td>\n",
       "      <td>32</td>\n",
       "    </tr>\n",
       "    <tr>\n",
       "      <th>95</th>\n",
       "      <td>Steven Crowder</td>\n",
       "      <td>31</td>\n",
       "    </tr>\n",
       "    <tr>\n",
       "      <th>143</th>\n",
       "      <td>Donald Trump For President</td>\n",
       "      <td>28</td>\n",
       "    </tr>\n",
       "    <tr>\n",
       "      <th>107</th>\n",
       "      <td>Blue Lives Matter</td>\n",
       "      <td>27</td>\n",
       "    </tr>\n",
       "    <tr>\n",
       "      <th>64</th>\n",
       "      <td>The Other 98%</td>\n",
       "      <td>25</td>\n",
       "    </tr>\n",
       "    <tr>\n",
       "      <th>405</th>\n",
       "      <td>USA Patriots for Donald Trump</td>\n",
       "      <td>25</td>\n",
       "    </tr>\n",
       "    <tr>\n",
       "      <th>307</th>\n",
       "      <td>VOA Burmese News</td>\n",
       "      <td>25</td>\n",
       "    </tr>\n",
       "    <tr>\n",
       "      <th>53</th>\n",
       "      <td>Variety</td>\n",
       "      <td>24</td>\n",
       "    </tr>\n",
       "    <tr>\n",
       "      <th>251</th>\n",
       "      <td>Love Meow</td>\n",
       "      <td>22</td>\n",
       "    </tr>\n",
       "    <tr>\n",
       "      <th>318</th>\n",
       "      <td>Nick Adams</td>\n",
       "      <td>22</td>\n",
       "    </tr>\n",
       "    <tr>\n",
       "      <th>33</th>\n",
       "      <td>Catholic Fundamentalism</td>\n",
       "      <td>22</td>\n",
       "    </tr>\n",
       "    <tr>\n",
       "      <th>615</th>\n",
       "      <td>David J. Harris Jr.</td>\n",
       "      <td>20</td>\n",
       "    </tr>\n",
       "    <tr>\n",
       "      <th>77</th>\n",
       "      <td>People Royals</td>\n",
       "      <td>20</td>\n",
       "    </tr>\n",
       "    <tr>\n",
       "      <th>63</th>\n",
       "      <td>ABC News</td>\n",
       "      <td>18</td>\n",
       "    </tr>\n",
       "    <tr>\n",
       "      <th>103</th>\n",
       "      <td>ComicBook. com</td>\n",
       "      <td>18</td>\n",
       "    </tr>\n",
       "    <tr>\n",
       "      <th>152</th>\n",
       "      <td>The Daily Caller</td>\n",
       "      <td>18</td>\n",
       "    </tr>\n",
       "    <tr>\n",
       "      <th>188</th>\n",
       "      <td>Koreaboo</td>\n",
       "      <td>17</td>\n",
       "    </tr>\n",
       "    <tr>\n",
       "      <th>76</th>\n",
       "      <td>Washington Post</td>\n",
       "      <td>17</td>\n",
       "    </tr>\n",
       "    <tr>\n",
       "      <th>23</th>\n",
       "      <td>NBC News</td>\n",
       "      <td>17</td>\n",
       "    </tr>\n",
       "    <tr>\n",
       "      <th>558</th>\n",
       "      <td>Cuteness overload</td>\n",
       "      <td>17</td>\n",
       "    </tr>\n",
       "    <tr>\n",
       "      <th>13</th>\n",
       "      <td>Today Show</td>\n",
       "      <td>17</td>\n",
       "    </tr>\n",
       "    <tr>\n",
       "      <th>11</th>\n",
       "      <td>Business Insider</td>\n",
       "      <td>16</td>\n",
       "    </tr>\n",
       "    <tr>\n",
       "      <th>57</th>\n",
       "      <td>Dios Es Bueno</td>\n",
       "      <td>16</td>\n",
       "    </tr>\n",
       "    <tr>\n",
       "      <th>492</th>\n",
       "      <td>Spoken Reasons</td>\n",
       "      <td>16</td>\n",
       "    </tr>\n",
       "    <tr>\n",
       "      <th>183</th>\n",
       "      <td>Deadline Hollywood</td>\n",
       "      <td>16</td>\n",
       "    </tr>\n",
       "    <tr>\n",
       "      <th>228</th>\n",
       "      <td>Glenn Beck</td>\n",
       "      <td>15</td>\n",
       "    </tr>\n",
       "    <tr>\n",
       "      <th>363</th>\n",
       "      <td>Barack Obama</td>\n",
       "      <td>15</td>\n",
       "    </tr>\n",
       "    <tr>\n",
       "      <th>79</th>\n",
       "      <td>E! News</td>\n",
       "      <td>14</td>\n",
       "    </tr>\n",
       "  </tbody>\n",
       "</table>\n",
       "</div>"
      ],
      "text/plain": [
       "                       entity_name  num_days\n",
       "2                      Ben Shapiro       991\n",
       "10                     Dan Bongino       633\n",
       "4                         Fox News       464\n",
       "25                 Franklin Graham       265\n",
       "14                             CNN       222\n",
       "20                Occupy Democrats       217\n",
       "0                              NPR       202\n",
       "5                        Breitbart       178\n",
       "12                         allkpop       103\n",
       "27              The New York Times        80\n",
       "92                    Sean Hannity        78\n",
       "32                             TMZ        78\n",
       "595                Donald J. Trump        71\n",
       "114                     ForAmerica        62\n",
       "66                        The Dodo        61\n",
       "55                         Newsmax        58\n",
       "16                   Peachy Sunday        47\n",
       "8                           People        41\n",
       "37                           TWICE        39\n",
       "161                   Robert Reich        39\n",
       "368                 Dinesh D'Souza        35\n",
       "9                          11Alive        33\n",
       "17                        HuffPost        32\n",
       "95                  Steven Crowder        31\n",
       "143     Donald Trump For President        28\n",
       "107              Blue Lives Matter        27\n",
       "64                   The Other 98%        25\n",
       "405  USA Patriots for Donald Trump        25\n",
       "307               VOA Burmese News        25\n",
       "53                         Variety        24\n",
       "251                      Love Meow        22\n",
       "318                     Nick Adams        22\n",
       "33         Catholic Fundamentalism        22\n",
       "615            David J. Harris Jr.        20\n",
       "77                   People Royals        20\n",
       "63                        ABC News        18\n",
       "103                 ComicBook. com        18\n",
       "152               The Daily Caller        18\n",
       "188                       Koreaboo        17\n",
       "76                 Washington Post        17\n",
       "23                        NBC News        17\n",
       "558              Cuteness overload        17\n",
       "13                      Today Show        17\n",
       "11                Business Insider        16\n",
       "57                   Dios Es Bueno        16\n",
       "492                 Spoken Reasons        16\n",
       "183             Deadline Hollywood        16\n",
       "228                     Glenn Beck        15\n",
       "363                   Barack Obama        15\n",
       "79                         E! News        14"
      ]
     },
     "execution_count": 107,
     "metadata": {},
     "output_type": "execute_result"
    }
   ],
   "source": [
    "total_counts_frame.sort_values('num_days', ascending=False).head(50)"
   ]
  },
  {
   "cell_type": "code",
   "execution_count": null,
   "metadata": {},
   "outputs": [],
   "source": []
  },
  {
   "cell_type": "code",
   "execution_count": null,
   "metadata": {},
   "outputs": [],
   "source": []
  },
  {
   "cell_type": "code",
   "execution_count": 93,
   "metadata": {
    "scrolled": true
   },
   "outputs": [
    {
     "data": {
      "text/plain": [
       "Counter({'WTAE-TV Pittsburgh': 1,\n",
       "         'NPR': 9,\n",
       "         'Dan Bongino': 8,\n",
       "         'Love Meow': 2,\n",
       "         'AP': 2,\n",
       "         'Inspire Uplift': 4,\n",
       "         'Koreaboo': 3,\n",
       "         'ABC30 Action News': 1,\n",
       "         'Washington Post': 1,\n",
       "         'Insider': 1,\n",
       "         'CNN': 8,\n",
       "         'Occupy Democrats': 1,\n",
       "         'The New York Times': 4,\n",
       "         'The Onion': 1,\n",
       "         'Peachy Sunday': 5,\n",
       "         'HuffPost': 2,\n",
       "         'Reuters': 1,\n",
       "         'Yahoo Life': 1,\n",
       "         'The Real Mike Epps': 6,\n",
       "         'Ben Shapiro': 20,\n",
       "         'Breitbart': 8,\n",
       "         'Soompi': 1,\n",
       "         'allkpop': 7,\n",
       "         'TMZ': 1,\n",
       "         'NBC News': 2,\n",
       "         'News 4 Tucson - KVOA': 1,\n",
       "         'The Hollywood Reporter': 1,\n",
       "         'The Dodo': 4,\n",
       "         'Nick Adams': 4,\n",
       "         '11Alive': 1,\n",
       "         'IndieWire': 1,\n",
       "         'ForAmerica': 3,\n",
       "         'Animal Rescue Stories': 1,\n",
       "         'Deadline Hollywood': 1,\n",
       "         'Fox News': 12,\n",
       "         'VOA Burmese News': 2,\n",
       "         'Right Side Broadcasting': 1,\n",
       "         'The Washington Times': 1,\n",
       "         'E! News': 1,\n",
       "         'Newsmax': 3,\n",
       "         'Daily Paws': 4,\n",
       "         'People Royals': 1,\n",
       "         'TheGrio': 2,\n",
       "         'The Steve Wilkos Show': 1,\n",
       "         'Front Cover': 1,\n",
       "         'Top13': 1,\n",
       "         'New York Post': 1,\n",
       "         'TENNIS .com': 1,\n",
       "         'The Arts': 1,\n",
       "         'Diamond And Silk': 2,\n",
       "         \"Dinesh D'Souza\": 7,\n",
       "         'AMERICAN - STRONG!': 1,\n",
       "         'Glenn Beck': 2,\n",
       "         'Franklin Graham': 5,\n",
       "         'Colossal': 1,\n",
       "         'Creative Healthy Family': 1,\n",
       "         'The Rachel Maddow Show': 1,\n",
       "         'Yahoo Entertainment': 1,\n",
       "         'TWICE': 2,\n",
       "         'Heroic Hollywood': 1,\n",
       "         'People': 1,\n",
       "         'BLACKPINK': 1,\n",
       "         'Rand Paul': 2,\n",
       "         'The Hill': 1,\n",
       "         'BuzzFeed Video': 1,\n",
       "         'Kylie Jenner': 1,\n",
       "         'Glamour': 1,\n",
       "         'People Parents': 1,\n",
       "         'The Koala': 1,\n",
       "         'Dana Perino': 1,\n",
       "         'Art Hunter': 1,\n",
       "         'Donald Trump For President': 1,\n",
       "         'VICE': 1,\n",
       "         'Allen West': 1,\n",
       "         'MovieWeb': 1})"
      ]
     },
     "execution_count": 93,
     "metadata": {},
     "output_type": "execute_result"
    }
   ],
   "source": [
    "Counter(all_data['2021_09'])"
   ]
  },
  {
   "cell_type": "code",
   "execution_count": 67,
   "metadata": {},
   "outputs": [
    {
     "name": "stdout",
     "output_type": "stream",
     "text": [
      "The top-performing link posts by U.S. Facebook pages in the last 24 hours are from:\n",
      "\n",
      "1. NPR\n",
      "2. Todo Cuba\n",
      "3. Ben Shapiro\n",
      "4. A Woman’s Soul\n",
      "5. Fox News\n",
      "6. Breitbart\n",
      "7. The Life of Animals\n",
      "8. Fox News\n",
      "9. Charlie Kirk\n",
      "10. People\n"
     ]
    }
   ],
   "source": [
    "print(tweet_text)"
   ]
  },
  {
   "cell_type": "code",
   "execution_count": 76,
   "metadata": {
    "scrolled": true
   },
   "outputs": [
    {
     "data": {
      "text/plain": [
       "['NPR',\n",
       " 'Todo Cuba',\n",
       " 'Ben Shapiro',\n",
       " 'A Woman’s Soul',\n",
       " 'Fox News',\n",
       " 'Breitbart',\n",
       " 'The Life of Animals',\n",
       " 'Fox News',\n",
       " 'Charlie Kirk',\n",
       " 'People']"
      ]
     },
     "execution_count": 76,
     "metadata": {},
     "output_type": "execute_result"
    }
   ],
   "source": [
    "get_top_ten(tweet_text)"
   ]
  },
  {
   "cell_type": "code",
   "execution_count": 74,
   "metadata": {},
   "outputs": [
    {
     "data": {
      "text/plain": [
       "'Todo Cuba'"
      ]
     },
     "execution_count": 74,
     "metadata": {},
     "output_type": "execute_result"
    }
   ],
   "source": [
    "tweet_text.split('\\n')[3].replace(\"2. \", '')"
   ]
  },
  {
   "cell_type": "code",
   "execution_count": 20,
   "metadata": {},
   "outputs": [
    {
     "data": {
      "text/plain": [
       "dict_keys(['context_annotations', 'reply_settings', 'public_metrics', 'entities', 'author_id', 'lang', 'created_at', 'id', 'source', 'text', 'possibly_sensitive', 'conversation_id', 'author', '__twarc'])"
      ]
     },
     "execution_count": 20,
     "metadata": {},
     "output_type": "execute_result"
    }
   ],
   "source": [
    "tweets[0].keys()"
   ]
  },
  {
   "cell_type": "code",
   "execution_count": 44,
   "metadata": {},
   "outputs": [],
   "source": [
    "import dateutil\n"
   ]
  },
  {
   "cell_type": "code",
   "execution_count": 50,
   "metadata": {},
   "outputs": [],
   "source": [
    "dtobj = dateutil.parser.isoparse(tweets[6]['created_at'])"
   ]
  },
  {
   "cell_type": "code",
   "execution_count": 55,
   "metadata": {},
   "outputs": [
    {
     "data": {
      "text/plain": [
       "11"
      ]
     },
     "execution_count": 55,
     "metadata": {},
     "output_type": "execute_result"
    }
   ],
   "source": [
    "dtobj."
   ]
  },
  {
   "cell_type": "code",
   "execution_count": 49,
   "metadata": {},
   "outputs": [
    {
     "data": {
      "text/plain": [
       "dict_keys(['context_annotations', 'reply_settings', 'public_metrics', 'entities', 'author_id', 'lang', 'created_at', 'id', 'source', 'text', 'possibly_sensitive', 'conversation_id', 'author', '__twarc'])"
      ]
     },
     "execution_count": 49,
     "metadata": {},
     "output_type": "execute_result"
    }
   ],
   "source": [
    "tweets[5].keys()"
   ]
  },
  {
   "cell_type": "code",
   "execution_count": null,
   "metadata": {},
   "outputs": [],
   "source": []
  },
  {
   "cell_type": "code",
   "execution_count": 40,
   "metadata": {},
   "outputs": [
    {
     "data": {
      "text/plain": [
       "True"
      ]
     },
     "execution_count": 40,
     "metadata": {},
     "output_type": "execute_result"
    }
   ],
   "source": [
    "\n",
    "\n",
    "is_tweet_i_want(tweets[5]['text'])"
   ]
  },
  {
   "cell_type": "code",
   "execution_count": null,
   "metadata": {},
   "outputs": [],
   "source": [
    "from osometweet.utils import "
   ]
  },
  {
   "cell_type": "code",
   "execution_count": null,
   "metadata": {},
   "outputs": [],
   "source": []
  },
  {
   "cell_type": "code",
   "execution_count": null,
   "metadata": {},
   "outputs": [],
   "source": []
  },
  {
   "cell_type": "code",
   "execution_count": null,
   "metadata": {},
   "outputs": [],
   "source": []
  },
  {
   "cell_type": "code",
   "execution_count": null,
   "metadata": {},
   "outputs": [],
   "source": []
  },
  {
   "cell_type": "code",
   "execution_count": null,
   "metadata": {},
   "outputs": [],
   "source": []
  },
  {
   "cell_type": "code",
   "execution_count": null,
   "metadata": {},
   "outputs": [],
   "source": []
  },
  {
   "cell_type": "code",
   "execution_count": null,
   "metadata": {},
   "outputs": [],
   "source": []
  },
  {
   "cell_type": "code",
   "execution_count": null,
   "metadata": {},
   "outputs": [],
   "source": []
  }
 ],
 "metadata": {
  "kernelspec": {
   "display_name": "Python 3",
   "language": "python",
   "name": "python3"
  },
  "language_info": {
   "codemirror_mode": {
    "name": "ipython",
    "version": 3
   },
   "file_extension": ".py",
   "mimetype": "text/x-python",
   "name": "python",
   "nbconvert_exporter": "python",
   "pygments_lexer": "ipython3",
   "version": "3.7.6"
  }
 },
 "nbformat": 4,
 "nbformat_minor": 2
}
